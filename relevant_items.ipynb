{
 "cells": [
  {
   "cell_type": "code",
   "execution_count": 2,
   "metadata": {},
   "outputs": [],
   "source": [
    "import pandas as pd"
   ]
  },
  {
   "cell_type": "code",
   "execution_count": 3,
   "metadata": {},
   "outputs": [],
   "source": [
    "#data importation\n",
    "items = pd.read_csv('/Volumes/Oussama/project/mimic-iii-clinical-database-1.4/D_ITEMS.csv')"
   ]
  },
  {
   "cell_type": "code",
   "execution_count": 4,
   "metadata": {},
   "outputs": [],
   "source": [
    "unneeded_param_types = ['Solution', 'Text', 'Process', 'Date time']\n",
    "items = items[~items['PARAM_TYPE'].isin(unneeded_param_types)]"
   ]
  },
  {
   "cell_type": "code",
   "execution_count": 5,
   "metadata": {},
   "outputs": [],
   "source": [
    "unneeded_categories = ['Free Form Intake', 'Meds', 'NG Feeding', 'Medications', 'Dialysis', 'Treatments', \n",
    "                       'Access Lines - Invasive', 'Drains', 'PICC Line Insertion', 'CVL Insertion', \n",
    "                       '1-Intubation/Extubation', 'Intubation', 'Family Mtg Note', 'Skin - Impairment', 'Paracentesis', \n",
    "                       'Bronchoscopy', 'Impella', 'PiCCO', 'Thoracentesis', 'Access Lines - Peripheral', \n",
    "                       'Arterial Line Insertion', 'PA Line Insertion','Pastoral Care Note', 'Lumbar Puncture', \n",
    "                       'Restraint/Support Systems', 'Pain/Sedation', 'Generic Proc Note', 'SPECIMEN', 'ORGANISM', \n",
    "                       'OB-GYN', 'OT Notes', 'Cardiovascular', 'Tandem Heart', 'ANTIBACTERIUM', 'Nutrition - Enteral',\n",
    "                       'ZIntake']\n",
    "items = items[~items['CATEGORY'].isin(unneeded_categories)]\n"
   ]
  },
  {
   "cell_type": "code",
   "execution_count": 6,
   "metadata": {},
   "outputs": [],
   "source": [
    "items.drop(['ROW_ID', 'LINKSTO', 'CONCEPTID', 'CATEGORY', 'PARAM_TYPE'], axis=1, inplace=True)\n",
    "items.dropna(subset=['LABEL'], inplace=True)"
   ]
  },
  {
   "cell_type": "code",
   "execution_count": 7,
   "metadata": {},
   "outputs": [],
   "source": [
    "relevant_ids = {}"
   ]
  },
  {
   "cell_type": "code",
   "execution_count": null,
   "metadata": {},
   "outputs": [],
   "source": [
    "l = items[items.apply(lambda r: r.str.contains('urine', case=False).any(), axis=1)].sort_values(by=['ITEMID'])\n",
    "l = l[['ITEMID','LABEL']]\n",
    "l"
   ]
  },
  {
   "cell_type": "code",
   "execution_count": null,
   "metadata": {},
   "outputs": [],
   "source": [
    "#relevant_ids['Urine Out Void'] = 40069\n",
    "#relevant_ids['True Urine'] = 42507\n",
    "#relevant_ids['Urine Out'] = 43053\n",
    "#relevant_ids['Urine'] = 43175\n",
    "#relevant_ids['Urine 2'] = 43462\n",
    "#relevant_ids['Real Urine Output'] = 43966\n",
    "#relevant_ids['Urine out 2'] = 44706\n",
    "#relevant_ids['True Urine 2'] = 44925\n",
    "#relevant_ids['True Urine 3'] = 45927\n",
    "#relevant_ids['Urine Volume Out'] = 227489\n",
    "#relevant_ids['urine osmolarity'] = 1011\n",
    "#relevant_ids['urine pH'] = 1352\n",
    "#relevant_ids['urine ph'] = 1495\n",
    "#relevant_ids['Urine Na+'] = 1917\n",
    "#relevant_ids['Urine creat'] = 1919\n",
    "#relevant_ids['URINE CL'] = 2688\n",
    "#relevant_ids['Urine Glucose'] = 3816\n",
    "#relevant_ids['Urine Leukocytes'] = 3819\n",
    "#relevant_ids['Urine Glucose'] = 3816\n",
    "#relevant_ids['PACU Urine'] = 226631\n",
    "#relevant_ids['Urine Volume Out'] = 227489\n",
    "#relevant_ids['Urine Volume Out'] = 43431\n",
    "#relevant_ids['urine outpt'] = 43380\n",
    "#relevant_ids['24hr Urine'] = 43576\n",
    "#relevant_ids['Urine Out'] = 43638\n",
    "#relevant_ids['inc Urine'] = 44752\n",
    "#relevant_ids['Urine Volume Out'] = 227059\n",
    "#relevant_ids['Urine PH'] = 7262\n",
    "#relevant_ids['ANGIO URINE OUT'] = 42042\n",
    "#relevant_ids['URINE'] = 43856\n",
    "#relevant_ids['URINE 1'] = 43522\n",
    "#relevant_ids['URINE 2'] = 43654\n",
    "#relevant_ids['URINE 3'] = 43633\n",
    "#relevant_ids['URINE 4'] = 43537\n",
    "#relevant_ids['URINE 5'] = 43589\n",
    "#relevant_ids['URINE 6'] = 43987\n",
    "\n",
    "#relevant_ids['urine calcium'] = 5810\n",
    "for i in range(0, 145):\n",
    "    relevant_ids[l.iloc[i,1]] = l.iloc[i,0]\n",
    "relevant_ids"
   ]
  },
  {
   "cell_type": "code",
   "execution_count": null,
   "metadata": {},
   "outputs": [],
   "source": [
    "items[items.apply(lambda r: r.str.contains('Heart Rate', case=False).any(), axis=1)].sort_values(by=['ITEMID']) "
   ]
  },
  {
   "cell_type": "code",
   "execution_count": null,
   "metadata": {},
   "outputs": [],
   "source": [
    "items[items.apply(lambda r: r.str.contains('HR', case=True).any(), axis=1)].sort_values(by=['ITEMID']).tail(60)"
   ]
  },
  {
   "cell_type": "code",
   "execution_count": 7,
   "metadata": {},
   "outputs": [],
   "source": [
    "relevant_ids['Heart Rate 1'] = 211\n",
    "relevant_ids['Heart Rate 2'] = 220045\n",
    "relevant_ids['Heart rate Alarm - High'] = 220046\n",
    "relevant_ids['Heart Rate Alarm - Low'] = 220047\n",
    "\n",
    "\n"
   ]
  },
  {
   "cell_type": "code",
   "execution_count": null,
   "metadata": {},
   "outputs": [],
   "source": [
    "items[items.apply(lambda r: r.str.contains('map', case=False).any(), axis=1)].sort_values(by=['ITEMID']) \n",
    "\n"
   ]
  },
  {
   "cell_type": "code",
   "execution_count": 8,
   "metadata": {},
   "outputs": [],
   "source": [
    "relevant_ids['Mean Arterial Pressure 1'] = 224322  \n",
    "#relevant_ids['Mean Arterial Pressure 2'] = 226766\n",
    "#relevant_ids['Mean Arterial Pressure 3'] = 227023\n",
    "#relevant_ids['Mean Arterial Pressure 4'] = 227024\n",
    "#relevant_ids['High MAP Alarm'] = 1200\n",
    "#relevant_ids['Low MAP Alarm'] = 1201\n",
    "relevant_ids['Mean Arterial Pressure 2'] = 53  \n",
    "relevant_ids['Mean Arterial Pressure 3'] = 2369\n",
    "#relevant_ids['Mean Arterial Pressure 3'] = 1199\n",
    "\n",
    "#relevant_ids['Mean Arterial Pressure 3'] = 6927  \n",
    "\n",
    "#relevant_ids['Mean Arterial Pressure 4'] = 5680  \n",
    "\n",
    "\n",
    "\n",
    "#relevant_ids['Mean Arterial Pressure 2'] = 438\n",
    "#relevant_ids['Mean Arterial Pressure 3'] = 1321\n",
    "#relevant_ids['Mean Arterial Pressure 4'] = 6399\n"
   ]
  },
  {
   "cell_type": "code",
   "execution_count": 10,
   "metadata": {},
   "outputs": [
    {
     "data": {
      "text/html": [
       "<div>\n",
       "<style scoped>\n",
       "    .dataframe tbody tr th:only-of-type {\n",
       "        vertical-align: middle;\n",
       "    }\n",
       "\n",
       "    .dataframe tbody tr th {\n",
       "        vertical-align: top;\n",
       "    }\n",
       "\n",
       "    .dataframe thead th {\n",
       "        text-align: right;\n",
       "    }\n",
       "</style>\n",
       "<table border=\"1\" class=\"dataframe\">\n",
       "  <thead>\n",
       "    <tr style=\"text-align: right;\">\n",
       "      <th></th>\n",
       "      <th>ITEMID</th>\n",
       "      <th>LABEL</th>\n",
       "      <th>ABBREVIATION</th>\n",
       "      <th>DBSOURCE</th>\n",
       "      <th>UNITNAME</th>\n",
       "    </tr>\n",
       "  </thead>\n",
       "  <tbody>\n",
       "    <tr>\n",
       "      <th>1423</th>\n",
       "      <td>651</td>\n",
       "      <td>Spon RR (Mech.)</td>\n",
       "      <td>NaN</td>\n",
       "      <td>carevue</td>\n",
       "      <td>NaN</td>\n",
       "    </tr>\n",
       "    <tr>\n",
       "      <th>1989</th>\n",
       "      <td>1840</td>\n",
       "      <td>IRRIGATE PIGTAIL</td>\n",
       "      <td>NaN</td>\n",
       "      <td>carevue</td>\n",
       "      <td>NaN</td>\n",
       "    </tr>\n",
       "    <tr>\n",
       "      <th>3589</th>\n",
       "      <td>6106</td>\n",
       "      <td>High RR</td>\n",
       "      <td>NaN</td>\n",
       "      <td>carevue</td>\n",
       "      <td>NaN</td>\n",
       "    </tr>\n",
       "    <tr>\n",
       "      <th>3669</th>\n",
       "      <td>6196</td>\n",
       "      <td>IRRIG FOLEY 50ML NS</td>\n",
       "      <td>NaN</td>\n",
       "      <td>carevue</td>\n",
       "      <td>NaN</td>\n",
       "    </tr>\n",
       "    <tr>\n",
       "      <th>5090</th>\n",
       "      <td>6749</td>\n",
       "      <td>total RR</td>\n",
       "      <td>NaN</td>\n",
       "      <td>carevue</td>\n",
       "      <td>NaN</td>\n",
       "    </tr>\n",
       "    <tr>\n",
       "      <th>946</th>\n",
       "      <td>7884</td>\n",
       "      <td>RR</td>\n",
       "      <td>NaN</td>\n",
       "      <td>carevue</td>\n",
       "      <td>NaN</td>\n",
       "    </tr>\n",
       "    <tr>\n",
       "      <th>6059</th>\n",
       "      <td>42209</td>\n",
       "      <td>IRRIGANT AND URINE</td>\n",
       "      <td>NaN</td>\n",
       "      <td>carevue</td>\n",
       "      <td>NaN</td>\n",
       "    </tr>\n",
       "    <tr>\n",
       "      <th>5451</th>\n",
       "      <td>42425</td>\n",
       "      <td>LT PLEURAL CT IRRIG</td>\n",
       "      <td>NaN</td>\n",
       "      <td>carevue</td>\n",
       "      <td>NaN</td>\n",
       "    </tr>\n",
       "    <tr>\n",
       "      <th>8429</th>\n",
       "      <td>42765</td>\n",
       "      <td>FARR 6 URINE OUT</td>\n",
       "      <td>NaN</td>\n",
       "      <td>carevue</td>\n",
       "      <td>NaN</td>\n",
       "    </tr>\n",
       "    <tr>\n",
       "      <th>8434</th>\n",
       "      <td>42840</td>\n",
       "      <td>FARR 5 OUT</td>\n",
       "      <td>NaN</td>\n",
       "      <td>carevue</td>\n",
       "      <td>NaN</td>\n",
       "    </tr>\n",
       "    <tr>\n",
       "      <th>6781</th>\n",
       "      <td>43048</td>\n",
       "      <td>IRRIGAGANT OUT</td>\n",
       "      <td>NaN</td>\n",
       "      <td>carevue</td>\n",
       "      <td>NaN</td>\n",
       "    </tr>\n",
       "    <tr>\n",
       "      <th>8472</th>\n",
       "      <td>43057</td>\n",
       "      <td>FARR 6 URINE</td>\n",
       "      <td>NaN</td>\n",
       "      <td>carevue</td>\n",
       "      <td>NaN</td>\n",
       "    </tr>\n",
       "    <tr>\n",
       "      <th>7578</th>\n",
       "      <td>43800</td>\n",
       "      <td>FARR 10 OUTPUT TOTAL</td>\n",
       "      <td>NaN</td>\n",
       "      <td>carevue</td>\n",
       "      <td>NaN</td>\n",
       "    </tr>\n",
       "    <tr>\n",
       "      <th>6848</th>\n",
       "      <td>44362</td>\n",
       "      <td>TPN CORRECTION</td>\n",
       "      <td>NaN</td>\n",
       "      <td>carevue</td>\n",
       "      <td>NaN</td>\n",
       "    </tr>\n",
       "    <tr>\n",
       "      <th>11524</th>\n",
       "      <td>220210</td>\n",
       "      <td>Respiratory Rate</td>\n",
       "      <td>RR</td>\n",
       "      <td>metavision</td>\n",
       "      <td>insp/min</td>\n",
       "    </tr>\n",
       "    <tr>\n",
       "      <th>10413</th>\n",
       "      <td>224422</td>\n",
       "      <td>Spont RR</td>\n",
       "      <td>Spont RR</td>\n",
       "      <td>metavision</td>\n",
       "      <td>bpm</td>\n",
       "    </tr>\n",
       "    <tr>\n",
       "      <th>11944</th>\n",
       "      <td>226774</td>\n",
       "      <td>RRApacheIIValue</td>\n",
       "      <td>RRApacheIIValue</td>\n",
       "      <td>metavision</td>\n",
       "      <td>insp/min</td>\n",
       "    </tr>\n",
       "    <tr>\n",
       "      <th>9411</th>\n",
       "      <td>227050</td>\n",
       "      <td>RR_ApacheIV</td>\n",
       "      <td>RR_ApacheIV</td>\n",
       "      <td>metavision</td>\n",
       "      <td>insp/min</td>\n",
       "    </tr>\n",
       "    <tr>\n",
       "      <th>9412</th>\n",
       "      <td>227051</td>\n",
       "      <td>RRScore_ApacheIV</td>\n",
       "      <td>RRScore_ApacheIV</td>\n",
       "      <td>metavision</td>\n",
       "      <td>None</td>\n",
       "    </tr>\n",
       "  </tbody>\n",
       "</table>\n",
       "</div>"
      ],
      "text/plain": [
       "       ITEMID                 LABEL      ABBREVIATION    DBSOURCE  UNITNAME\n",
       "1423      651       Spon RR (Mech.)               NaN     carevue       NaN\n",
       "1989     1840      IRRIGATE PIGTAIL               NaN     carevue       NaN\n",
       "3589     6106               High RR               NaN     carevue       NaN\n",
       "3669     6196   IRRIG FOLEY 50ML NS               NaN     carevue       NaN\n",
       "5090     6749              total RR               NaN     carevue       NaN\n",
       "946      7884                    RR               NaN     carevue       NaN\n",
       "6059    42209    IRRIGANT AND URINE               NaN     carevue       NaN\n",
       "5451    42425   LT PLEURAL CT IRRIG               NaN     carevue       NaN\n",
       "8429    42765      FARR 6 URINE OUT               NaN     carevue       NaN\n",
       "8434    42840            FARR 5 OUT               NaN     carevue       NaN\n",
       "6781    43048        IRRIGAGANT OUT               NaN     carevue       NaN\n",
       "8472    43057          FARR 6 URINE               NaN     carevue       NaN\n",
       "7578    43800  FARR 10 OUTPUT TOTAL               NaN     carevue       NaN\n",
       "6848    44362        TPN CORRECTION               NaN     carevue       NaN\n",
       "11524  220210      Respiratory Rate                RR  metavision  insp/min\n",
       "10413  224422              Spont RR          Spont RR  metavision       bpm\n",
       "11944  226774       RRApacheIIValue   RRApacheIIValue  metavision  insp/min\n",
       "9411   227050           RR_ApacheIV       RR_ApacheIV  metavision  insp/min\n",
       "9412   227051      RRScore_ApacheIV  RRScore_ApacheIV  metavision      None"
      ]
     },
     "execution_count": 10,
     "metadata": {},
     "output_type": "execute_result"
    }
   ],
   "source": [
    "h = items[items.apply(lambda r: r.str.contains('resp rate', case=False).any(), axis=1)].sort_values(by=['ITEMID'])\n",
    "f = items[items.apply(lambda r: r.str.contains('respiratory', case=False).any(), axis=1)].sort_values(by=['ITEMID']) \n",
    "b = items[items.apply(lambda r: r.str.contains('RR', case=True).any(), axis=1)].sort_values(by=['ITEMID']) \n",
    "b\n"
   ]
  },
  {
   "cell_type": "code",
   "execution_count": 9,
   "metadata": {},
   "outputs": [],
   "source": [
    "relevant_ids['Respiratory Rate 0'] = 618\n",
    "relevant_ids['Respiratory Rate 1'] = 619\n",
    "relevant_ids['Respiratory Rate 3'] = 224689\n",
    "relevant_ids['Respiratory Rate 4'] = 220210\n",
    "relevant_ids['Respiratory Rate 2'] = 224688\n",
    "#relevant_ids['Respiratory Rate 5'] = 3603\n",
    "#relevant_ids['Respiratory Rate 6'] = 7884\n",
    "#relevant_ids['Respiratory Rate 7'] = 227050\n",
    "relevant_ids['Spont RR'] = 224422\n",
    "\n",
    "relevant_ids['Respiratory Rate 5'] = 614\n",
    "relevant_ids['Respiratory Rate 6'] = 615\n",
    "#relevant_ids['Respiratory Rate 7'] = 1635\n",
    "relevant_ids['Respiratory Rate 8'] = 224690\n",
    "#relevant_ids['Respiratory Rate 9'] = 224745\n",
    "\n",
    "\n",
    "#relevant_ids['Respiratory Rate 7'] = 1884\n",
    "\n",
    "\n",
    "\n",
    "\n",
    "\n",
    "\n"
   ]
  },
  {
   "cell_type": "code",
   "execution_count": null,
   "metadata": {},
   "outputs": [],
   "source": [
    "items[items.apply(lambda r: r.str.contains('temp', case=False).any(), axis=1)].sort_values(by=['ITEMID']) "
   ]
  },
  {
   "cell_type": "code",
   "execution_count": 10,
   "metadata": {},
   "outputs": [],
   "source": [
    "relevant_ids['Temperature C'] = 676\n",
    "relevant_ids['Temperature C 2'] = 223762\n",
    "relevant_ids['Temperature F'] = 678\n",
    "relevant_ids['Temperature F 2'] = 223761"
   ]
  },
  {
   "cell_type": "code",
   "execution_count": null,
   "metadata": {},
   "outputs": [],
   "source": [
    "items[items.apply(lambda r: r.str.contains('GCS', case=False).any(), axis=1)].sort_values(by=['ITEMID'])"
   ]
  },
  {
   "cell_type": "code",
   "execution_count": 11,
   "metadata": {},
   "outputs": [],
   "source": [
    "relevant_ids['GCS'] = 198\n",
    "relevant_ids['GCS 2'] = 226755\n",
    "\n"
   ]
  },
  {
   "cell_type": "code",
   "execution_count": null,
   "metadata": {},
   "outputs": [],
   "source": [
    "#no sbp found\n",
    "items[items.apply(lambda r: r.str.contains('sbp', case=False).any(), axis=1)].sort_values(by=['ITEMID'])"
   ]
  },
  {
   "cell_type": "code",
   "execution_count": null,
   "metadata": {},
   "outputs": [],
   "source": [
    "items[items.apply(lambda r: r.str.contains('spo2', case=False).any(), axis=1)].sort_values(by=['ITEMID'])"
   ]
  },
  {
   "cell_type": "code",
   "execution_count": 13,
   "metadata": {},
   "outputs": [],
   "source": [
    "relevant_ids['SpO2'] = 646\n",
    "relevant_ids['SpO2 low'] = 5820\n",
    "relevant_ids['SpO2'] = 8554"
   ]
  },
  {
   "cell_type": "code",
   "execution_count": null,
   "metadata": {},
   "outputs": [],
   "source": [
    "items[items.apply(lambda r: r.str.contains('hematocrit', case=False).any(), axis=1)].sort_values(by=['ITEMID'])"
   ]
  },
  {
   "cell_type": "code",
   "execution_count": 14,
   "metadata": {},
   "outputs": [],
   "source": [
    "relevant_ids['Hematocrit'] = 813\n",
    "relevant_ids['Hematocrit 2'] = 226540"
   ]
  },
  {
   "cell_type": "code",
   "execution_count": null,
   "metadata": {},
   "outputs": [],
   "source": [
    "items[items.apply(lambda r: r.str.contains('wbc', case=False).any(), axis=1)].sort_values(by=['ITEMID'])"
   ]
  },
  {
   "cell_type": "code",
   "execution_count": 15,
   "metadata": {},
   "outputs": [],
   "source": [
    "relevant_ids['wbc 1'] = 1542\n",
    "relevant_ids['wbc 2'] = 220546"
   ]
  },
  {
   "cell_type": "code",
   "execution_count": null,
   "metadata": {},
   "outputs": [],
   "source": [
    "l = items[items.apply(lambda r: r.str.contains('glucose', case=False).any(), axis=1)].sort_values(by=['ITEMID'])\n"
   ]
  },
  {
   "cell_type": "code",
   "execution_count": 16,
   "metadata": {},
   "outputs": [],
   "source": [
    "\n",
    "relevant_ids['glucose'] = 1529\n",
    "relevant_ids['serum glucose'] = 220621\n"
   ]
  },
  {
   "cell_type": "code",
   "execution_count": null,
   "metadata": {},
   "outputs": [],
   "source": [
    "items[items.apply(lambda r: r.str.contains('bicarb', case=False).any(), axis=1)].sort_values(by=['ITEMID'])\n"
   ]
  },
  {
   "cell_type": "code",
   "execution_count": null,
   "metadata": {},
   "outputs": [],
   "source": [
    "#relevant_ids['Na bicarbonate'] = 4297\n",
    "#relevant_ids['sodium bicarbonate'] = 5075\n",
    "#relevant_ids['sodium bicarbonate2'] = 6299\n",
    "#relevant_ids['Na bicarbonate'] = 3110\n",
    "#relevant_ids['Na bicarbonate 1'] = 3109\n",
    "#relevant_ids['Na bicarbonate 2'] = 3528\n",
    "#relevant_ids['Na bicarbonate 3'] = 6146\n",
    "#relevant_ids['Na bicarbonate'] = 30030\n",
    "#relevant_ids['Na bicarbonate 2'] = 30338\n",
    "\n",
    "\n",
    "\n"
   ]
  },
  {
   "cell_type": "code",
   "execution_count": null,
   "metadata": {},
   "outputs": [],
   "source": [
    "items[items.apply(lambda r: r.str.contains('potassium', case=False).any(), axis=1)].sort_values(by=['ITEMID'])"
   ]
  },
  {
   "cell_type": "code",
   "execution_count": 17,
   "metadata": {},
   "outputs": [],
   "source": [
    "relevant_ids['Potassium'] = 1535\n",
    "relevant_ids['Potassium serum'] = 227442"
   ]
  },
  {
   "cell_type": "code",
   "execution_count": null,
   "metadata": {},
   "outputs": [],
   "source": [
    "items[items.apply(lambda r: r.str.contains('sodium', case=False).any(), axis=1)].sort_values(by=['ITEMID'])"
   ]
  },
  {
   "cell_type": "code",
   "execution_count": 18,
   "metadata": {},
   "outputs": [],
   "source": [
    "relevant_ids['Sodium'] = 1536\n",
    "relevant_ids['Sodium 2'] = 226534"
   ]
  },
  {
   "cell_type": "code",
   "execution_count": null,
   "metadata": {},
   "outputs": [],
   "source": [
    "l = items[items.apply(lambda r: r.str.contains('bun', case=False).any(), axis=1)].sort_values(by=['ITEMID'])\n",
    "\n",
    "l"
   ]
  },
  {
   "cell_type": "code",
   "execution_count": null,
   "metadata": {},
   "outputs": [],
   "source": [
    "relevant_ids['bun 1'] = 1162\n",
    "\n",
    "relevant_ids['bun 3'] = 225624\n"
   ]
  },
  {
   "cell_type": "code",
   "execution_count": null,
   "metadata": {},
   "outputs": [],
   "source": [
    "# nothing is found\n",
    "items[items.apply(lambda r: r.str.contains('crea', case=False).any(), axis=1)].sort_values(by=['ITEMID'])"
   ]
  },
  {
   "cell_type": "code",
   "execution_count": null,
   "metadata": {},
   "outputs": [],
   "source": [
    "#no age is found\n",
    "items[items.apply(lambda r: r.str.contains('age', case=False).any(), axis=1)].sort_values(by=['ITEMID']).tail(50)"
   ]
  },
  {
   "cell_type": "code",
   "execution_count": null,
   "metadata": {},
   "outputs": [],
   "source": [
    "l = items[items.apply(lambda r: r.str.contains('Ventilator', case=False).any(), axis=1)].sort_values(by=['ITEMID'])\n",
    "\n",
    "l.tail(60)"
   ]
  },
  {
   "cell_type": "code",
   "execution_count": 19,
   "metadata": {},
   "outputs": [],
   "source": [
    "#relevant_ids['Ventilator'] = 226260\n",
    "#relevant_ids['Ventilator'] = 45822\n",
    "relevant_ids['Ventilator 1'] = 227565\n",
    "relevant_ids['Ventilator 2'] = 227566\n",
    "relevant_ids['Ventilator 3'] = 5782\n",
    "#relevant_ids['Ventilator 4'] = 7647\n",
    "#relevant_ids['Ventilator 4'] = 6115\n",
    "relevant_ids['Ventilator 4'] = 721\n",
    "relevant_ids['crea 1'] = 791\n",
    "relevant_ids['crea 2'] = 1525\n",
    "relevant_ids['crea 3'] = 220615\n",
    "\n",
    "\n",
    "\n"
   ]
  },
  {
   "cell_type": "code",
   "execution_count": null,
   "metadata": {},
   "outputs": [],
   "source": [
    "items[items.apply(lambda r: r.str.contains('vaso', case=False).any(), axis=1)].sort_values(by=['ITEMID']).tail(50)"
   ]
  },
  {
   "cell_type": "code",
   "execution_count": null,
   "metadata": {},
   "outputs": [],
   "source": [
    "#relevant_ids['vasopressor'] = 1136\n",
    "#relevant_ids['vasopressor 1'] = 1222\n",
    "#relevant_ids['vasopressor 2'] = 1327\n",
    "#relevant_ids['vasopressor 3'] = 2248\n",
    "#relevant_ids['vasopressor 4'] = 2334\n",
    "#relevant_ids['vasopressor 5'] = 2445\n",
    "#relevant_ids['vasopressor 6'] = 2561\n",
    "#relevant_ids['vasopressor 7'] = 2765\n",
    "#relevant_ids['vasopressor 8'] = 6255\n",
    "#relevant_ids['vasopressor 9'] = 30051\n",
    "#relevant_ids['vasopressor'] = 7341 \n",
    "\n"
   ]
  },
  {
   "cell_type": "code",
   "execution_count": null,
   "metadata": {},
   "outputs": [],
   "source": [
    "items[items.apply(lambda r: r.str.contains('Systolic', case=False).any(), axis=1)].sort_values(by=['ITEMID']) "
   ]
  },
  {
   "cell_type": "code",
   "execution_count": 20,
   "metadata": {},
   "outputs": [],
   "source": [
    "relevant_ids['ABP mean'] = 220052\n",
    "#relevant_ids['LEFT FEM ABP'] = 3042\n",
    "\n",
    "\n",
    "#relevant_ids['Diastolic ABP 2'] = 8364\n",
    "\n",
    "#relevant_ids['Systolic ABP 2'] = 6\n",
    "#relevant_ids['RIGHT FEM ABP'] = 3043\n",
    "relevant_ids['Diastolic ABP'] = 220051\n",
    "relevant_ids['Diastolic ABP 2'] = 225310\n",
    "relevant_ids['Systolic ABP 2'] = 225309\n",
    "relevant_ids['Systolic ABP'] = 220050\n",
    "\n"
   ]
  },
  {
   "cell_type": "code",
   "execution_count": null,
   "metadata": {},
   "outputs": [],
   "source": [
    "items[items.apply(lambda r: r.str.contains('weight', case=False).any(), axis=1)].sort_values(by=['ITEMID']) "
   ]
  },
  {
   "cell_type": "code",
   "execution_count": 21,
   "metadata": {},
   "outputs": [],
   "source": [
    "relevant_ids['Daily Weight'] = 580\n",
    "relevant_ids['Daily Weight 2'] = 763\n",
    "#relevant_ids['Present Weight (kg)'] = 3580\n",
    "#relevant_ids['Present Weight (lb)'] = 3581\n",
    "#relevant_ids['Weight Kg'] = 3693\n",
    "relevant_ids['Weight Change'] = 733\n",
    "relevant_ids['Admission Weight (Kg)'] = 226512\n",
    "relevant_ids['Admission Weight (lbs.)'] = 226531\n",
    "relevant_ids['Daily Weight'] = 224639\n"
   ]
  },
  {
   "cell_type": "code",
   "execution_count": null,
   "metadata": {},
   "outputs": [],
   "source": [
    "items[items.apply(lambda r: r.str.contains('fio2', case=False).any(), axis=1)].sort_values(by=['ITEMID']) "
   ]
  },
  {
   "cell_type": "code",
   "execution_count": 22,
   "metadata": {},
   "outputs": [],
   "source": [
    "#relevant_ids['FiO2 1'] = 227009\n",
    "#relevant_ids['FiO2 2'] = 226754\n",
    "#relevant_ids['FiO2 1'] = 2981\n",
    "#relevant_ids['FiO2 2'] = 3422\n",
    "relevant_ids['FiO2 3'] = 223835\n",
    "#relevant_ids['FiO2 4'] = 227010\n",
    "relevant_ids['FIO2 Alarm-High'] = 185\n",
    "relevant_ids['FIO2 Alarm-Low'] = 186\n",
    "#relevant_ids['FiO2 1'] = 2981\n",
    "#relevant_ids['FiO2 2'] = 3420\n",
    "relevant_ids['FiO2 4'] = 191\n",
    "relevant_ids['FiO2 1'] = 190\n",
    "#relevant_ids['FiO2 2'] = 1040\n"
   ]
  },
  {
   "cell_type": "code",
   "execution_count": null,
   "metadata": {},
   "outputs": [],
   "source": [
    "items[items.apply(lambda r: r.str.contains('height', case=False).any(), axis=1)].sort_values(by=['ITEMID'])"
   ]
  },
  {
   "cell_type": "code",
   "execution_count": 23,
   "metadata": {},
   "outputs": [],
   "source": [
    "relevant_ids['Height inch'] = 226707\n",
    "\n",
    "relevant_ids['Height cm'] = 226730\n"
   ]
  },
  {
   "cell_type": "code",
   "execution_count": null,
   "metadata": {},
   "outputs": [],
   "source": [
    "items[items.apply(lambda r: r.str.contains('glucose', case=False).any(), axis=1)].sort_values(by=['ITEMID'])"
   ]
  },
  {
   "cell_type": "code",
   "execution_count": 24,
   "metadata": {},
   "outputs": [],
   "source": [
    "relevant_ids['serum glucose'] = 220621\n",
    "\n"
   ]
  },
  {
   "cell_type": "code",
   "execution_count": null,
   "metadata": {},
   "outputs": [],
   "source": [
    "items[items.apply(lambda r: r.str.contains('HCO3', case=False).any(), axis=1)].sort_values(by=['ITEMID'])"
   ]
  },
  {
   "cell_type": "code",
   "execution_count": null,
   "metadata": {},
   "outputs": [],
   "source": [
    "relevant_ids['serum HCO3'] = 227443\n",
    "\n"
   ]
  },
  {
   "cell_type": "code",
   "execution_count": null,
   "metadata": {},
   "outputs": [],
   "source": [
    "items[items.apply(lambda r: r.str.contains('creatinine', case=False).any(), axis=1)].sort_values(by=['ITEMID'])"
   ]
  },
  {
   "cell_type": "code",
   "execution_count": 25,
   "metadata": {},
   "outputs": [],
   "source": [
    "relevant_ids['Creatinine 1'] = 1525\n",
    "relevant_ids['Creatinine 2'] = 220615"
   ]
  },
  {
   "cell_type": "code",
   "execution_count": null,
   "metadata": {},
   "outputs": [],
   "source": [
    "df = pd.DataFrame.from_dict(relevant_ids, orient='index')\n",
    "df = df.reset_index().sort_values(by=['index'])\n",
    "df.columns = ['MEASUREMENT', 'ITEMID']"
   ]
  },
  {
   "cell_type": "code",
   "execution_count": null,
   "metadata": {},
   "outputs": [],
   "source": [
    "df1 = df.sort_index()\n",
    "df1"
   ]
  },
  {
   "cell_type": "code",
   "execution_count": null,
   "metadata": {},
   "outputs": [],
   "source": [
    "items[items.apply(lambda r: r.str.contains('blood', case=False).any(), axis=1)].sort_values(by=['ITEMID'])"
   ]
  },
  {
   "cell_type": "code",
   "execution_count": 26,
   "metadata": {},
   "outputs": [],
   "source": [
    "relevant_ids['Arterial Blood Pressure mean'] = 220052"
   ]
  },
  {
   "cell_type": "code",
   "execution_count": null,
   "metadata": {},
   "outputs": [],
   "source": [
    "items[items.apply(lambda r: r.str.contains('spontaneous', case=False).any(), axis=1)].sort_values(by=['ITEMID'])"
   ]
  },
  {
   "cell_type": "code",
   "execution_count": 27,
   "metadata": {},
   "outputs": [],
   "source": [
    "relevant_ids['spontaneous respiratory rate'] = 224689"
   ]
  },
  {
   "cell_type": "code",
   "execution_count": 28,
   "metadata": {},
   "outputs": [],
   "source": [
    "df = pd.DataFrame.from_dict(relevant_ids, orient='index')\n",
    "df = df.reset_index().sort_values(by=['index'])\n",
    "df.columns = ['MEASUREMENT', 'ITEMID']"
   ]
  },
  {
   "cell_type": "code",
   "execution_count": 32,
   "metadata": {},
   "outputs": [
    {
     "data": {
      "text/html": [
       "<div>\n",
       "<style scoped>\n",
       "    .dataframe tbody tr th:only-of-type {\n",
       "        vertical-align: middle;\n",
       "    }\n",
       "\n",
       "    .dataframe tbody tr th {\n",
       "        vertical-align: top;\n",
       "    }\n",
       "\n",
       "    .dataframe thead th {\n",
       "        text-align: right;\n",
       "    }\n",
       "</style>\n",
       "<table border=\"1\" class=\"dataframe\">\n",
       "  <thead>\n",
       "    <tr style=\"text-align: right;\">\n",
       "      <th></th>\n",
       "      <th>MEASUREMENT</th>\n",
       "      <th>ITEMID</th>\n",
       "    </tr>\n",
       "  </thead>\n",
       "  <tbody>\n",
       "    <tr>\n",
       "      <th>0</th>\n",
       "      <td>Heart Rate 1</td>\n",
       "      <td>211</td>\n",
       "    </tr>\n",
       "    <tr>\n",
       "      <th>1</th>\n",
       "      <td>Heart Rate 2</td>\n",
       "      <td>220045</td>\n",
       "    </tr>\n",
       "    <tr>\n",
       "      <th>2</th>\n",
       "      <td>Heart rate Alarm - High</td>\n",
       "      <td>220046</td>\n",
       "    </tr>\n",
       "    <tr>\n",
       "      <th>3</th>\n",
       "      <td>Heart Rate Alarm - Low</td>\n",
       "      <td>220047</td>\n",
       "    </tr>\n",
       "    <tr>\n",
       "      <th>4</th>\n",
       "      <td>Mean Arterial Pressure 1</td>\n",
       "      <td>224322</td>\n",
       "    </tr>\n",
       "    <tr>\n",
       "      <th>...</th>\n",
       "      <td>...</td>\n",
       "      <td>...</td>\n",
       "    </tr>\n",
       "    <tr>\n",
       "      <th>57</th>\n",
       "      <td>Height cm</td>\n",
       "      <td>226730</td>\n",
       "    </tr>\n",
       "    <tr>\n",
       "      <th>58</th>\n",
       "      <td>Creatinine 1</td>\n",
       "      <td>1525</td>\n",
       "    </tr>\n",
       "    <tr>\n",
       "      <th>59</th>\n",
       "      <td>Creatinine 2</td>\n",
       "      <td>220615</td>\n",
       "    </tr>\n",
       "    <tr>\n",
       "      <th>60</th>\n",
       "      <td>Arterial Blood Pressure mean</td>\n",
       "      <td>220052</td>\n",
       "    </tr>\n",
       "    <tr>\n",
       "      <th>61</th>\n",
       "      <td>spontaneous respiratory rate</td>\n",
       "      <td>224689</td>\n",
       "    </tr>\n",
       "  </tbody>\n",
       "</table>\n",
       "<p>62 rows × 2 columns</p>\n",
       "</div>"
      ],
      "text/plain": [
       "                     MEASUREMENT  ITEMID\n",
       "0                   Heart Rate 1     211\n",
       "1                   Heart Rate 2  220045\n",
       "2        Heart rate Alarm - High  220046\n",
       "3         Heart Rate Alarm - Low  220047\n",
       "4       Mean Arterial Pressure 1  224322\n",
       "..                           ...     ...\n",
       "57                     Height cm  226730\n",
       "58                  Creatinine 1    1525\n",
       "59                  Creatinine 2  220615\n",
       "60  Arterial Blood Pressure mean  220052\n",
       "61  spontaneous respiratory rate  224689\n",
       "\n",
       "[62 rows x 2 columns]"
      ]
     },
     "execution_count": 32,
     "metadata": {},
     "output_type": "execute_result"
    }
   ],
   "source": [
    "df1 = df.sort_index()\n",
    "df1"
   ]
  },
  {
   "cell_type": "code",
   "execution_count": 30,
   "metadata": {},
   "outputs": [],
   "source": [
    "df1.to_csv('/Volumes/Oussama/project/Data_comp/D_CHARTITEMS.csv', sep=',', encoding='utf-8', index=False)"
   ]
  },
  {
   "cell_type": "code",
   "execution_count": 31,
   "metadata": {},
   "outputs": [
    {
     "data": {
      "text/plain": [
       "['Mean Arterial Pressure 3', 'GCS 2']"
      ]
     },
     "execution_count": 31,
     "metadata": {},
     "output_type": "execute_result"
    }
   ],
   "source": [
    "j = ['FiO2 3', 'Heart Rate 2', 'Respiratory Rate 4', 'Temperature F 2',\n",
    "       'Respiratory Rate 8', 'Respiratory Rate 2', 'Respiratory Rate 3',\n",
    "       'spontaneous respiratory rate', 'Admission Weight (Kg)',\n",
    "       'Admission Weight (lbs.)', 'Heart rate Alarm - High',\n",
    "       'Heart Rate Alarm - Low', 'Systolic ABP', 'Diastolic ABP',\n",
    "       'ABP mean', 'Arterial Blood Pressure mean', 'wbc 2', 'crea 3',\n",
    "       'Creatinine 2', 'serum glucose', 'Potassium serum', 'Height inch',\n",
    "       'Height cm', 'Daily Weight', 'Ventilator 1', 'Ventilator 2',\n",
    "       'Spont RR', 'Sodium 2', 'Systolic ABP 2', 'Diastolic ABP 2',\n",
    "       'Temperature C 2', 'Hematocrit 2', 'Mean Arterial Pressure 1',\n",
    "       'Heart Rate 1', 'FiO2 1', 'GCS', 'Respiratory Rate 0',\n",
    "       'Temperature F', 'Temperature C', 'crea 1', 'Hematocrit', 'crea 2',\n",
    "       'Creatinine 1', 'glucose', 'Potassium', 'Sodium', 'wbc 1',\n",
    "       'Respiratory Rate 5', 'Respiratory Rate 6', 'Respiratory Rate 1',\n",
    "       'Daily Weight 2', 'Ventilator 4', 'Weight Change',\n",
    "       'FIO2 Alarm-High', 'FIO2 Alarm-Low', 'Mean Arterial Pressure 2',\n",
    "       'Ventilator 3', 'FiO2 4', 'SpO2 low', 'SpO2']\n",
    "h = list(df1['MEASUREMENT'])\n",
    "k=[]\n",
    "for i in h:\n",
    "    if i not in j:\n",
    "        k.append(i)\n",
    "        \n",
    "\n",
    "\n",
    "\n",
    "k"
   ]
  },
  {
   "cell_type": "code",
   "execution_count": null,
   "metadata": {},
   "outputs": [],
   "source": [
    "len(k)"
   ]
  },
  {
   "cell_type": "code",
   "execution_count": null,
   "metadata": {},
   "outputs": [],
   "source": [
    "h\n"
   ]
  },
  {
   "cell_type": "code",
   "execution_count": null,
   "metadata": {},
   "outputs": [],
   "source": []
  }
 ],
 "metadata": {
  "kernelspec": {
   "display_name": "Python 3",
   "language": "python",
   "name": "python3"
  },
  "language_info": {
   "codemirror_mode": {
    "name": "ipython",
    "version": 3
   },
   "file_extension": ".py",
   "mimetype": "text/x-python",
   "name": "python",
   "nbconvert_exporter": "python",
   "pygments_lexer": "ipython3",
   "version": "3.8.5"
  }
 },
 "nbformat": 4,
 "nbformat_minor": 4
}
