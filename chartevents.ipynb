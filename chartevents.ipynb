{
 "cells": [
  {
   "cell_type": "code",
   "execution_count": 1,
   "metadata": {},
   "outputs": [],
   "source": [
    "import pandas as pd \n"
   ]
  },
  {
   "cell_type": "code",
   "execution_count": null,
   "metadata": {},
   "outputs": [],
   "source": [
    "for i in range(1, 5):\n",
    "    print(\"abc\" + str(i) + \".csv\")"
   ]
  },
  {
   "cell_type": "code",
   "execution_count": 2,
   "metadata": {},
   "outputs": [],
   "source": [
    "admissions = pd.read_csv('/Volumes/Oussama/project/Data_comp/ADMISSIONS.csv')\n",
    "d_reduced_chartitems = pd.read_csv('/Volumes/Oussama/project/Data_comp/D_CHARTITEMS.csv')\n"
   ]
  },
  {
   "cell_type": "code",
   "execution_count": 3,
   "metadata": {},
   "outputs": [
    {
     "data": {
      "text/html": [
       "<div>\n",
       "<style scoped>\n",
       "    .dataframe tbody tr th:only-of-type {\n",
       "        vertical-align: middle;\n",
       "    }\n",
       "\n",
       "    .dataframe tbody tr th {\n",
       "        vertical-align: top;\n",
       "    }\n",
       "\n",
       "    .dataframe thead th {\n",
       "        text-align: right;\n",
       "    }\n",
       "</style>\n",
       "<table border=\"1\" class=\"dataframe\">\n",
       "  <thead>\n",
       "    <tr style=\"text-align: right;\">\n",
       "      <th></th>\n",
       "      <th>MEASUREMENT</th>\n",
       "      <th>ITEMID</th>\n",
       "    </tr>\n",
       "  </thead>\n",
       "  <tbody>\n",
       "    <tr>\n",
       "      <th>0</th>\n",
       "      <td>Heart Rate 1</td>\n",
       "      <td>211</td>\n",
       "    </tr>\n",
       "    <tr>\n",
       "      <th>1</th>\n",
       "      <td>Heart Rate 2</td>\n",
       "      <td>220045</td>\n",
       "    </tr>\n",
       "    <tr>\n",
       "      <th>2</th>\n",
       "      <td>Heart rate Alarm - High</td>\n",
       "      <td>220046</td>\n",
       "    </tr>\n",
       "    <tr>\n",
       "      <th>3</th>\n",
       "      <td>Heart Rate Alarm - Low</td>\n",
       "      <td>220047</td>\n",
       "    </tr>\n",
       "    <tr>\n",
       "      <th>4</th>\n",
       "      <td>Mean Arterial Pressure 1</td>\n",
       "      <td>224322</td>\n",
       "    </tr>\n",
       "    <tr>\n",
       "      <th>...</th>\n",
       "      <td>...</td>\n",
       "      <td>...</td>\n",
       "    </tr>\n",
       "    <tr>\n",
       "      <th>57</th>\n",
       "      <td>Height cm</td>\n",
       "      <td>226730</td>\n",
       "    </tr>\n",
       "    <tr>\n",
       "      <th>58</th>\n",
       "      <td>Creatinine 1</td>\n",
       "      <td>1525</td>\n",
       "    </tr>\n",
       "    <tr>\n",
       "      <th>59</th>\n",
       "      <td>Creatinine 2</td>\n",
       "      <td>220615</td>\n",
       "    </tr>\n",
       "    <tr>\n",
       "      <th>60</th>\n",
       "      <td>Arterial Blood Pressure mean</td>\n",
       "      <td>220052</td>\n",
       "    </tr>\n",
       "    <tr>\n",
       "      <th>61</th>\n",
       "      <td>spontaneous respiratory rate</td>\n",
       "      <td>224689</td>\n",
       "    </tr>\n",
       "  </tbody>\n",
       "</table>\n",
       "<p>62 rows × 2 columns</p>\n",
       "</div>"
      ],
      "text/plain": [
       "                     MEASUREMENT  ITEMID\n",
       "0                   Heart Rate 1     211\n",
       "1                   Heart Rate 2  220045\n",
       "2        Heart rate Alarm - High  220046\n",
       "3         Heart Rate Alarm - Low  220047\n",
       "4       Mean Arterial Pressure 1  224322\n",
       "..                           ...     ...\n",
       "57                     Height cm  226730\n",
       "58                  Creatinine 1    1525\n",
       "59                  Creatinine 2  220615\n",
       "60  Arterial Blood Pressure mean  220052\n",
       "61  spontaneous respiratory rate  224689\n",
       "\n",
       "[62 rows x 2 columns]"
      ]
     },
     "execution_count": 3,
     "metadata": {},
     "output_type": "execute_result"
    }
   ],
   "source": [
    "complete_chart_events = pd.DataFrame()\n",
    "d_reduced_chartitems\n"
   ]
  },
  {
   "cell_type": "code",
   "execution_count": 4,
   "metadata": {},
   "outputs": [
    {
     "name": "stderr",
     "output_type": "stream",
     "text": [
      "/Users/oussamagharsellaoui/opt/anaconda3/lib/python3.8/site-packages/IPython/core/interactiveshell.py:3146: DtypeWarning: Columns (13) have mixed types.Specify dtype option on import or set low_memory=False.\n",
      "  has_raised = await self.run_ast_nodes(code_ast.body, cell_name,\n",
      "/Users/oussamagharsellaoui/opt/anaconda3/lib/python3.8/site-packages/IPython/core/interactiveshell.py:3146: DtypeWarning: Columns (8,10,14) have mixed types.Specify dtype option on import or set low_memory=False.\n",
      "  has_raised = await self.run_ast_nodes(code_ast.body, cell_name,\n",
      "/Users/oussamagharsellaoui/opt/anaconda3/lib/python3.8/site-packages/IPython/core/interactiveshell.py:3146: DtypeWarning: Columns (8) have mixed types.Specify dtype option on import or set low_memory=False.\n",
      "  has_raised = await self.run_ast_nodes(code_ast.body, cell_name,\n"
     ]
    }
   ],
   "source": [
    "for i in range(1, 332):\n",
    "    chart_events = pd.read_csv('/Volumes/Oussama/project data/chartevents/CHARTEVENTS_' + str(i) + '.csv')\n",
    "    # remove redundant or irrelevant data\n",
    "    chart_events.drop(['ROW_ID', 'STORETIME', 'CGID', 'VALUEUOM', 'VALUE', 'RESULTSTATUS', 'STOPPED'], axis=1, inplace=True)\n",
    "    chart_events['CHARTTIME'] = pd.to_datetime(chart_events['CHARTTIME'])\n",
    "    # remove data that is not part of the investigation\n",
    "    chart_events = chart_events[chart_events['SUBJECT_ID'].isin(admissions['SUBJECT_ID'])] \n",
    "    chart_events = chart_events[chart_events['ITEMID'].isin(d_reduced_chartitems['ITEMID'])]\n",
    "    chart_events = chart_events[chart_events['ERROR'] != 1.0]\n",
    "    chart_events = chart_events.drop(['ERROR'], axis=1)\n",
    "    # drop NANs\n",
    "    chart_events.dropna(subset=['VALUENUM'], inplace=True)\n",
    "    chart_events['FLAG'] = chart_events['WARNING'].apply(lambda x: 1 if (x == 1.0) else 0)\n",
    "    chart_events['FLAG'] = chart_events['FLAG'].astype('category')\n",
    "    chart_events.drop(['WARNING'], axis=1, inplace=True)\n",
    "    complete_chart_events = pd.concat([complete_chart_events, chart_events], ignore_index=True)\n",
    "    \n",
    "\n",
    "    "
   ]
  },
  {
   "cell_type": "code",
   "execution_count": 5,
   "metadata": {},
   "outputs": [],
   "source": [
    "complete_chart_events.dropna(subset=['VALUENUM'], inplace=True)  \n"
   ]
  },
  {
   "cell_type": "code",
   "execution_count": 6,
   "metadata": {},
   "outputs": [],
   "source": [
    "complete_chart_events.drop_duplicates(inplace=True)\n"
   ]
  },
  {
   "cell_type": "code",
   "execution_count": 7,
   "metadata": {},
   "outputs": [
    {
     "name": "stdout",
     "output_type": "stream",
     "text": [
      "<class 'pandas.core.frame.DataFrame'>\n",
      "Int64Index: 28385140 entries, 0 to 28385237\n",
      "Data columns (total 7 columns):\n",
      " #   Column      Dtype         \n",
      "---  ------      -----         \n",
      " 0   SUBJECT_ID  int64         \n",
      " 1   HADM_ID     int64         \n",
      " 2   ICUSTAY_ID  float64       \n",
      " 3   ITEMID      int64         \n",
      " 4   CHARTTIME   datetime64[ns]\n",
      " 5   VALUENUM    float64       \n",
      " 6   FLAG        category      \n",
      "dtypes: category(1), datetime64[ns](1), float64(2), int64(3)\n",
      "memory usage: 1.5 GB\n"
     ]
    }
   ],
   "source": [
    "complete_chart_events.fillna({'FLAG':0}, inplace=True)\n",
    "complete_chart_events['FLAG'] = complete_chart_events['FLAG'].astype('category')\n",
    "complete_chart_events.info()\n"
   ]
  },
  {
   "cell_type": "code",
   "execution_count": 8,
   "metadata": {},
   "outputs": [],
   "source": [
    "complete_chart_events.to_csv('/Volumes/Oussama/project/Data_comp/CHARTEVENTS.csv', sep=',', encoding='utf-8', index=False)"
   ]
  },
  {
   "cell_type": "code",
   "execution_count": null,
   "metadata": {},
   "outputs": [],
   "source": [
    "complete_chart_events"
   ]
  },
  {
   "cell_type": "code",
   "execution_count": null,
   "metadata": {},
   "outputs": [],
   "source": []
  }
 ],
 "metadata": {
  "kernelspec": {
   "display_name": "Python 3",
   "language": "python",
   "name": "python3"
  },
  "language_info": {
   "codemirror_mode": {
    "name": "ipython",
    "version": 3
   },
   "file_extension": ".py",
   "mimetype": "text/x-python",
   "name": "python",
   "nbconvert_exporter": "python",
   "pygments_lexer": "ipython3",
   "version": "3.8.5"
  }
 },
 "nbformat": 4,
 "nbformat_minor": 4
}
